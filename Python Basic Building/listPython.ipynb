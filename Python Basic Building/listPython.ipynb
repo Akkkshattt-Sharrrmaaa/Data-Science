{
 "cells": [
  {
   "cell_type": "code",
   "id": "initial_id",
   "metadata": {
    "collapsed": true,
    "ExecuteTime": {
     "end_time": "2024-04-06T15:06:47.070198Z",
     "start_time": "2024-04-06T15:06:47.066757Z"
    }
   },
   "source": [
    "l = [ 1, 2 , 3 , \"four\", True, 3+4j]\n",
    "print(\"Type of l is : \", type(l))"
   ],
   "outputs": [
    {
     "name": "stdout",
     "output_type": "stream",
     "text": [
      "Type of l is :  <class 'list'>\n"
     ]
    }
   ],
   "execution_count": 6
  },
  {
   "metadata": {
    "ExecuteTime": {
     "end_time": "2024-04-06T15:06:48.908444Z",
     "start_time": "2024-04-06T15:06:48.906624Z"
    }
   },
   "cell_type": "code",
   "source": "print(\"list l is : \", l)",
   "id": "debf929f99c9c2b0",
   "outputs": [
    {
     "name": "stdout",
     "output_type": "stream",
     "text": [
      "list l is :  [1, 2, 3, 'four', True, (3+4j)]\n"
     ]
    }
   ],
   "execution_count": 7
  },
  {
   "metadata": {
    "ExecuteTime": {
     "end_time": "2024-04-06T15:06:50.374920Z",
     "start_time": "2024-04-06T15:06:50.371607Z"
    }
   },
   "cell_type": "code",
   "source": "print(\"Slicing in list l is : \", l[1:3])",
   "id": "bcc2b412f1a6efa6",
   "outputs": [
    {
     "name": "stdout",
     "output_type": "stream",
     "text": [
      "Slicing in list l is :  [2, 3]\n"
     ]
    }
   ],
   "execution_count": 8
  },
  {
   "metadata": {
    "ExecuteTime": {
     "end_time": "2024-04-06T15:06:51.554105Z",
     "start_time": "2024-04-06T15:06:51.550062Z"
    }
   },
   "cell_type": "code",
   "source": "print(\"Reversed list l is : \", l[::-1])",
   "id": "eec755f047753aae",
   "outputs": [
    {
     "name": "stdout",
     "output_type": "stream",
     "text": [
      "Reversed list l is :  [(3+4j), True, 'four', 3, 2, 1]\n"
     ]
    }
   ],
   "execution_count": 9
  },
  {
   "metadata": {
    "ExecuteTime": {
     "end_time": "2024-04-06T15:07:19.952316Z",
     "start_time": "2024-04-06T15:07:19.949527Z"
    }
   },
   "cell_type": "code",
   "source": [
    "print(\"Original list : \",l)\n",
    "l = l[::-1]\n",
    "print(\"Reversed list : \", l)"
   ],
   "id": "1afb44764ecae0b6",
   "outputs": [
    {
     "name": "stdout",
     "output_type": "stream",
     "text": [
      "Original list :  [1, 2, 3, 'four', True, (3+4j)]\n",
      "Reversed list :  [(3+4j), True, 'four', 3, 2, 1]\n"
     ]
    }
   ],
   "execution_count": 10
  },
  {
   "metadata": {
    "ExecuteTime": {
     "end_time": "2024-04-06T15:09:17.027450Z",
     "start_time": "2024-04-06T15:09:17.024332Z"
    }
   },
   "cell_type": "code",
   "source": [
    "complex_no = l[0]\n",
    "print(\"Complex no is : \", complex_no)\n",
    "print(\"Real value of complex no is : \", complex_no.real)\n",
    "print(\"Imaginary value of complex no is : \", complex_no.imag)"
   ],
   "id": "b137200d53a3bd72",
   "outputs": [
    {
     "name": "stdout",
     "output_type": "stream",
     "text": [
      "Complex no is :  (3+4j)\n",
      "Real value of complex no is :  3.0\n",
      "Imaginary value of complex no is :  4.0\n"
     ]
    }
   ],
   "execution_count": 12
  },
  {
   "metadata": {
    "ExecuteTime": {
     "end_time": "2024-04-06T15:13:55.055890Z",
     "start_time": "2024-04-06T15:13:55.052595Z"
    }
   },
   "cell_type": "code",
   "source": [
    "print(\"Concatenating one list with other :\")\n",
    "l1 = [1,2,3]\n",
    "l2 = [4,5,6]\n",
    "l3 = l1 + l2 \n",
    "print(\"Concatenated list : \",l3)"
   ],
   "id": "f771250c9ed97e5b",
   "outputs": [
    {
     "name": "stdout",
     "output_type": "stream",
     "text": [
      "Concatenating one list with other :\n",
      "Concatenated list :  [1, 2, 3, 4, 5, 6]\n"
     ]
    }
   ],
   "execution_count": 13
  },
  {
   "metadata": {
    "ExecuteTime": {
     "end_time": "2024-04-06T15:14:26.808190Z",
     "start_time": "2024-04-06T15:14:26.804317Z"
    }
   },
   "cell_type": "code",
   "source": [
    "print(\"Multiplying a list with integer : \")\n",
    "l1 = l1 * 2\n",
    "print(l1)"
   ],
   "id": "9f10aebb53368b9f",
   "outputs": [
    {
     "name": "stdout",
     "output_type": "stream",
     "text": [
      "Multiplying a list with integer : \n",
      "[1, 2, 3, 1, 2, 3]\n"
     ]
    }
   ],
   "execution_count": 14
  },
  {
   "metadata": {
    "ExecuteTime": {
     "end_time": "2024-04-06T15:17:17.058142Z",
     "start_time": "2024-04-06T15:17:17.054732Z"
    }
   },
   "cell_type": "code",
   "source": [
    "print(\"Adding elements to list  : \")\n",
    "l1.append(4)\n",
    "print(l1)"
   ],
   "id": "edae49bc25e2130b",
   "outputs": [
    {
     "name": "stdout",
     "output_type": "stream",
     "text": [
      "Adding elements to list  : \n",
      "[1, 2, 3, 1, 2, 3, 4]\n"
     ]
    }
   ],
   "execution_count": 15
  },
  {
   "metadata": {
    "ExecuteTime": {
     "end_time": "2024-04-06T15:22:46.369612Z",
     "start_time": "2024-04-06T15:22:46.365047Z"
    }
   },
   "cell_type": "code",
   "source": [
    "print(\"Extend function in list\")\n",
    "l4 = [1,2,3]\n",
    "print(\"l4 before extending list : \",l4)\n",
    "l4.extend([4,5,6])\n",
    "print(\"l4 after extending list : \",l4)"
   ],
   "id": "39167f15cc5c82ef",
   "outputs": [
    {
     "name": "stdout",
     "output_type": "stream",
     "text": [
      "Extend function in list\n",
      "l4 before extending list :  [1, 2, 3]\n",
      "l4 after extending list :  [1, 2, 3, 4, 5, 6]\n"
     ]
    }
   ],
   "execution_count": 16
  },
  {
   "metadata": {
    "ExecuteTime": {
     "end_time": "2024-04-06T15:39:11.819219Z",
     "start_time": "2024-04-06T15:39:11.816006Z"
    }
   },
   "cell_type": "code",
   "source": [
    "print(\"Removing elements from list : \")\n",
    "list1 = [1,2,3, [4,5,6],5, 6, 7, 8]\n",
    "print(\"List : \",list1)\n",
    "print(\"Removing last element from list : \")\n",
    "list1.pop()\n",
    "print(\"List : \", list1)\n",
    "print(\"Removing element using index : \")\n",
    "list1.pop(2)\n",
    "print(\"List : \", list1)\n",
    "print(\"Removing element using value : \")\n",
    "list1.remove(5)\n",
    "print(list1)\n",
    "print(\"Removing element from the list inside of list1 : \")\n",
    "list1[2].remove(5)\n",
    "print(list1)"
   ],
   "id": "30f515a4c00adcf2",
   "outputs": [
    {
     "name": "stdout",
     "output_type": "stream",
     "text": [
      "Removing elements from list : \n",
      "List :  [1, 2, 3, [4, 5, 6], 5, 6, 7, 8]\n",
      "Removing last element from list : \n",
      "List :  [1, 2, 3, [4, 5, 6], 5, 6, 7]\n",
      "Removing element using index : \n",
      "List :  [1, 2, [4, 5, 6], 5, 6, 7]\n",
      "Removing element using value : \n",
      "[1, 2, [4, 5, 6], 6, 7]\n",
      "Removing element from the list inside of list1 : \n",
      "[1, 2, [4, 6], 6, 7]\n"
     ]
    }
   ],
   "execution_count": 32
  },
  {
   "metadata": {},
   "cell_type": "code",
   "outputs": [],
   "execution_count": null,
   "source": "",
   "id": "a239fb4682e47876"
  }
 ],
 "metadata": {
  "kernelspec": {
   "display_name": "Python 3",
   "language": "python",
   "name": "python3"
  },
  "language_info": {
   "codemirror_mode": {
    "name": "ipython",
    "version": 2
   },
   "file_extension": ".py",
   "mimetype": "text/x-python",
   "name": "python",
   "nbconvert_exporter": "python",
   "pygments_lexer": "ipython2",
   "version": "2.7.6"
  }
 },
 "nbformat": 4,
 "nbformat_minor": 5
}
