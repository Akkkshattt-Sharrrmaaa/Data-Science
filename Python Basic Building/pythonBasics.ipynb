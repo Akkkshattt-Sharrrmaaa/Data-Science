{
 "cells": [
  {
   "cell_type": "markdown",
   "source": [
    "### Understanding Variables in python"
   ],
   "metadata": {
    "collapsed": false
   },
   "id": "658e1ca79126e7f8"
  },
  {
   "cell_type": "code",
   "outputs": [],
   "source": [
    "a = 10\n",
    "b = True   \n",
    "c = \"thisisastring\"\n",
    "d = 12.32\n",
    "e = 3 + 4j"
   ],
   "metadata": {
    "collapsed": false,
    "ExecuteTime": {
     "end_time": "2024-04-04T14:59:09.330849Z",
     "start_time": "2024-04-04T14:59:09.328590Z"
    }
   },
   "id": "205509f008b22ff8",
   "execution_count": 4
  },
  {
   "cell_type": "code",
   "outputs": [
    {
     "name": "stdout",
     "output_type": "stream",
     "text": [
      "Data types of the variables : \n",
      "Data type of a : <class 'int'>\n",
      "Data type of b : <class 'bool'>\n",
      "Data type of c : <class 'str'>\n",
      "data type of d : <class 'float'>\n",
      "data type of e : <class 'complex'>\n"
     ]
    }
   ],
   "source": [
    "print(\"Data types of the variables : \")\n",
    "print(f'Data type of a : {type(a)}')\n",
    "print(f'Data type of b : {type(b)}') \n",
    "print(f'Data type of c : {type(c)}')\n",
    "print(f'data type of d : {type(d)}')\n",
    "print(f'data type of e : {type(e)}')"
   ],
   "metadata": {
    "collapsed": false,
    "ExecuteTime": {
     "end_time": "2024-04-04T14:59:22.650069Z",
     "start_time": "2024-04-04T14:59:22.644821Z"
    }
   },
   "id": "a825adddda976b91",
   "execution_count": 5
  },
  {
   "cell_type": "markdown",
   "source": [
    "### Mutable and Immuteable Objects "
   ],
   "metadata": {
    "collapsed": false
   },
   "id": "acdd12358b0f3296"
  },
  {
   "cell_type": "code",
   "outputs": [
    {
     "name": "stdout",
     "output_type": "stream",
     "text": [
      "Data type of mylist :  <class 'list'>\n",
      "Mylist is :  [1, 2, 'three', True, 5.02]\n",
      "Making changes in list \n",
      "Updated mylist is : [1, 2, 3, True, 5.02]\n"
     ]
    }
   ],
   "source": [
    "# lists are muteable\n",
    "mylist = [1 ,2 ,\"three\", True , 5.02]\n",
    "print(\"Data type of mylist : \", type(mylist))\n",
    "print(\"Mylist is : \", mylist)\n",
    "print(\"Making changes in list \")\n",
    "mylist[2] = 3\n",
    "print(\"Updated mylist is :\", mylist)"
   ],
   "metadata": {
    "collapsed": false,
    "ExecuteTime": {
     "end_time": "2024-04-04T15:12:22.621243Z",
     "start_time": "2024-04-04T15:12:22.618001Z"
    }
   },
   "id": "fc80d8469f2c05b5",
   "execution_count": 6
  },
  {
   "cell_type": "code",
   "outputs": [
    {
     "name": "stdout",
     "output_type": "stream",
     "text": [
      "Data type of mystirng : <class 'str'>\n",
      "Mystring is :  Hello World\n",
      "Making changes in string \n",
      "Cannot make changes, error is thrown\n"
     ]
    },
    {
     "ename": "TypeError",
     "evalue": "'str' object does not support item assignment",
     "output_type": "error",
     "traceback": [
      "\u001B[0;31m---------------------------------------------------------------------------\u001B[0m",
      "\u001B[0;31mTypeError\u001B[0m                                 Traceback (most recent call last)",
      "Cell \u001B[0;32mIn[8], line 7\u001B[0m\n\u001B[1;32m      5\u001B[0m \u001B[38;5;28mprint\u001B[39m(\u001B[38;5;124m\"\u001B[39m\u001B[38;5;124mMaking changes in string \u001B[39m\u001B[38;5;124m\"\u001B[39m)\n\u001B[1;32m      6\u001B[0m \u001B[38;5;28mprint\u001B[39m(\u001B[38;5;124m\"\u001B[39m\u001B[38;5;124mCannot make changes, error is thrown\u001B[39m\u001B[38;5;124m\"\u001B[39m)\n\u001B[0;32m----> 7\u001B[0m \u001B[43mmystring\u001B[49m\u001B[43m[\u001B[49m\u001B[38;5;241;43m0\u001B[39;49m\u001B[43m]\u001B[49m \u001B[38;5;241m=\u001B[39m \u001B[38;5;124m'\u001B[39m\u001B[38;5;124mP\u001B[39m\u001B[38;5;124m'\u001B[39m\n",
      "\u001B[0;31mTypeError\u001B[0m: 'str' object does not support item assignment"
     ]
    }
   ],
   "source": [
    "# strings are not muteable\n",
    "mystring = \"Hello World\"\n",
    "print(f\"Data type of mystirng : {type(mystring)}\")\n",
    "print(\"Mystring is : \", mystring)\n",
    "print(\"Making changes in string \")\n",
    "print(\"Cannot make changes, error is thrown\")\n",
    "mystring[0] = 'P'"
   ],
   "metadata": {
    "collapsed": false,
    "ExecuteTime": {
     "end_time": "2024-04-04T15:13:58.908574Z",
     "start_time": "2024-04-04T15:13:58.897631Z"
    }
   },
   "id": "ef2443be7173e94",
   "execution_count": 8
  },
  {
   "cell_type": "code",
   "outputs": [
    {
     "name": "stdout",
     "output_type": "stream",
     "text": [
      "1\n",
      "2\n",
      "3\n"
     ]
    }
   ],
   "source": [
    "i = 1\n",
    "n = 4\n",
    "while i<n :\n",
    "    print(i)\n",
    "    i += 1"
   ],
   "metadata": {
    "collapsed": false,
    "ExecuteTime": {
     "end_time": "2024-04-04T16:00:31.489745Z",
     "start_time": "2024-04-04T16:00:31.487187Z"
    }
   },
   "id": "ffb18e58445af0d1",
   "execution_count": 10
  }
 ],
 "metadata": {
  "kernelspec": {
   "display_name": "Python 3",
   "language": "python",
   "name": "python3"
  },
  "language_info": {
   "codemirror_mode": {
    "name": "ipython",
    "version": 2
   },
   "file_extension": ".py",
   "mimetype": "text/x-python",
   "name": "python",
   "nbconvert_exporter": "python",
   "pygments_lexer": "ipython2",
   "version": "2.7.6"
  }
 },
 "nbformat": 4,
 "nbformat_minor": 5
}
